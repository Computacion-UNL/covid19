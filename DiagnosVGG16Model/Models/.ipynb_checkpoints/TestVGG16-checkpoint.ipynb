{
 "cells": [
  {
   "cell_type": "code",
   "execution_count": 1,
   "metadata": {
    "_cell_guid": "79c7e3d0-c299-4dcb-8224-4455121ee9b0",
    "_uuid": "d629ff2d2480ee46fbb7e2d37f6b5fab8052498a",
    "executionInfo": {
     "elapsed": 3122,
     "status": "ok",
     "timestamp": 1624946271633,
     "user": {
      "displayName": "JONATHAN TILLAGUANGO",
      "photoUrl": "https://lh3.googleusercontent.com/a-/AOh14GiNlQ9A7pZgz9MLEGlpF1nyPFtpFg71ANAXZPZswg=s64",
      "userId": "07754999983166154050"
     },
     "user_tz": 300
    },
    "id": "SRDqQ7xYfsTQ"
   },
   "outputs": [],
   "source": [
    "import cv2\n",
    "import os\n",
    "from tqdm import tqdm\n",
    "import matplotlib.pyplot as plt\n",
    "import numpy as np\n",
    "import glob\n",
    "import tensorflow.compat.v1 as tf\n",
    "from tensorflow.keras.preprocessing.image import ImageDataGenerator\n",
    "from tensorflow.keras.applications import *\n",
    "from tensorflow.keras.layers import *\n",
    "from tensorflow.keras.models import *\n",
    "from tensorflow.keras.optimizers import Adam\n",
    "from tensorflow.keras.utils import to_categorical\n",
    "from sklearn.preprocessing import LabelEncoder\n",
    "from sklearn.model_selection import train_test_split\n",
    "from sklearn.metrics import *\n",
    "from tensorflow.keras.callbacks import *"
   ]
  },
  {
   "cell_type": "code",
   "execution_count": 2,
   "metadata": {
    "colab": {
     "base_uri": "https://localhost:8080/"
    },
    "executionInfo": {
     "elapsed": 224,
     "status": "ok",
     "timestamp": 1624946272697,
     "user": {
      "displayName": "JONATHAN TILLAGUANGO",
      "photoUrl": "https://lh3.googleusercontent.com/a-/AOh14GiNlQ9A7pZgz9MLEGlpF1nyPFtpFg71ANAXZPZswg=s64",
      "userId": "07754999983166154050"
     },
     "user_tz": 300
    },
    "id": "N79N9hbLf64r",
    "outputId": "63062e06-3fcc-4068-c96c-1a2e995b358b"
   },
   "outputs": [
    {
     "data": {
      "text/plain": [
       "[PhysicalDevice(name='/physical_device:GPU:0', device_type='GPU')]"
      ]
     },
     "execution_count": 2,
     "metadata": {},
     "output_type": "execute_result"
    }
   ],
   "source": [
    "tf.config.list_physical_devices('GPU')"
   ]
  },
  {
   "cell_type": "code",
   "execution_count": 3,
   "metadata": {
    "executionInfo": {
     "elapsed": 184,
     "status": "ok",
     "timestamp": 1624946274286,
     "user": {
      "displayName": "JONATHAN TILLAGUANGO",
      "photoUrl": "https://lh3.googleusercontent.com/a-/AOh14GiNlQ9A7pZgz9MLEGlpF1nyPFtpFg71ANAXZPZswg=s64",
      "userId": "07754999983166154050"
     },
     "user_tz": 300
    },
    "id": "vop5lzZVfsTV"
   },
   "outputs": [],
   "source": [
    "imagePaths = []\n",
    "for dirname, _, filenames in os.walk(r'C:\\Users\\jr-98\\Documents\\DataCovid19imgX\\TAWSIFUR_RAHMAN\\COVID-19_Radiography_Dataset'):\n",
    "    for filename in filenames:\n",
    "        if (filename[-3:] == 'png'):\n",
    "            imagePaths.append(os.path.join(dirname, filename))"
   ]
  },
  {
   "cell_type": "code",
   "execution_count": 4,
   "metadata": {
    "executionInfo": {
     "elapsed": 197,
     "status": "ok",
     "timestamp": 1624946275529,
     "user": {
      "displayName": "JONATHAN TILLAGUANGO",
      "photoUrl": "https://lh3.googleusercontent.com/a-/AOh14GiNlQ9A7pZgz9MLEGlpF1nyPFtpFg71ANAXZPZswg=s64",
      "userId": "07754999983166154050"
     },
     "user_tz": 300
    },
    "id": "toHgr8V1fsTV"
   },
   "outputs": [],
   "source": [
    "imgSize = 224"
   ]
  },
  {
   "cell_type": "code",
   "execution_count": 5,
   "metadata": {
    "colab": {
     "base_uri": "https://localhost:8080/"
    },
    "executionInfo": {
     "elapsed": 16819,
     "status": "ok",
     "timestamp": 1624946293514,
     "user": {
      "displayName": "JONATHAN TILLAGUANGO",
      "photoUrl": "https://lh3.googleusercontent.com/a-/AOh14GiNlQ9A7pZgz9MLEGlpF1nyPFtpFg71ANAXZPZswg=s64",
      "userId": "07754999983166154050"
     },
     "user_tz": 300
    },
    "id": "kKink_mhfsTW",
    "outputId": "04f25e50-fea1-4387-a2b8-add4bfdd9d8d"
   },
   "outputs": [
    {
     "name": "stderr",
     "output_type": "stream",
     "text": [
      "100%|███████████████████████████████████████████████████████████████████████████████| 500/500 [00:00<00:00, 733.05it/s]\n"
     ]
    }
   ],
   "source": [
    "X = []\n",
    "Y = []\n",
    "hmap = {'NORMAL': 'Normal', 'COVID': 'Covid-19'}\n",
    "\n",
    "for imagePath in tqdm(imagePaths):\n",
    "    label = imagePath.split(os.path.sep)[-2]\n",
    "    image = cv2.imread(imagePath)\n",
    "    image = cv2.cvtColor(image, cv2.COLOR_BGR2RGB)\n",
    "    image = cv2.resize(image, (imgSize, imgSize))\n",
    "\n",
    "    X.append(image)\n",
    "    Y.append(hmap[label])\n"
   ]
  },
  {
   "cell_type": "code",
   "execution_count": 6,
   "metadata": {
    "colab": {
     "base_uri": "https://localhost:8080/"
    },
    "executionInfo": {
     "elapsed": 5,
     "status": "ok",
     "timestamp": 1624946293515,
     "user": {
      "displayName": "JONATHAN TILLAGUANGO",
      "photoUrl": "https://lh3.googleusercontent.com/a-/AOh14GiNlQ9A7pZgz9MLEGlpF1nyPFtpFg71ANAXZPZswg=s64",
      "userId": "07754999983166154050"
     },
     "user_tz": 300
    },
    "id": "iAcvXV3QfsTX",
    "outputId": "ee6c65bf-3050-4cde-a839-5c9ba56f26ae"
   },
   "outputs": [
    {
     "name": "stdout",
     "output_type": "stream",
     "text": [
      "Covid-19: 250\n",
      "Normal: 250\n"
     ]
    }
   ],
   "source": [
    "print('Covid-19:',Y.count('Covid-19'))\n",
    "print('Normal:',Y.count('Normal'))"
   ]
  },
  {
   "cell_type": "code",
   "execution_count": 7,
   "metadata": {
    "executionInfo": {
     "elapsed": 186,
     "status": "ok",
     "timestamp": 1624946296607,
     "user": {
      "displayName": "JONATHAN TILLAGUANGO",
      "photoUrl": "https://lh3.googleusercontent.com/a-/AOh14GiNlQ9A7pZgz9MLEGlpF1nyPFtpFg71ANAXZPZswg=s64",
      "userId": "07754999983166154050"
     },
     "user_tz": 300
    },
    "id": "SFEUcJZBfsTY"
   },
   "outputs": [],
   "source": [
    "le = LabelEncoder()\n",
    "Y = le.fit_transform(Y)\n",
    "Y = to_categorical(Y)\n"
   ]
  },
  {
   "cell_type": "code",
   "execution_count": 8,
   "metadata": {
    "executionInfo": {
     "elapsed": 189,
     "status": "ok",
     "timestamp": 1624946299674,
     "user": {
      "displayName": "JONATHAN TILLAGUANGO",
      "photoUrl": "https://lh3.googleusercontent.com/a-/AOh14GiNlQ9A7pZgz9MLEGlpF1nyPFtpFg71ANAXZPZswg=s64",
      "userId": "07754999983166154050"
     },
     "user_tz": 300
    },
    "id": "bC5pseOFfsTY",
    "tags": []
   },
   "outputs": [],
   "source": [
    "(trainX, testX, trainY, testY) = train_test_split(X, Y, test_size=0.20, stratify=Y, random_state=42)"
   ]
  },
  {
   "cell_type": "code",
   "execution_count": null,
   "metadata": {},
   "outputs": [],
   "source": []
  },
  {
   "cell_type": "code",
   "execution_count": 9,
   "metadata": {
    "colab": {
     "base_uri": "https://localhost:8080/"
    },
    "executionInfo": {
     "elapsed": 327,
     "status": "ok",
     "timestamp": 1624946301145,
     "user": {
      "displayName": "JONATHAN TILLAGUANGO",
      "photoUrl": "https://lh3.googleusercontent.com/a-/AOh14GiNlQ9A7pZgz9MLEGlpF1nyPFtpFg71ANAXZPZswg=s64",
      "userId": "07754999983166154050"
     },
     "user_tz": 300
    },
    "id": "ecyFu38WfsTZ",
    "outputId": "6255c127-1c7e-4dfe-c8ce-3ba2db1359b3"
   },
   "outputs": [
    {
     "name": "stdout",
     "output_type": "stream",
     "text": [
      "400\n"
     ]
    },
    {
     "name": "stderr",
     "output_type": "stream",
     "text": [
      "100%|████████████████████████████████████████████████████████████████████████████| 400/400 [00:00<00:00, 401080.95it/s]"
     ]
    },
    {
     "name": "stdout",
     "output_type": "stream",
     "text": [
      "1600\n"
     ]
    },
    {
     "name": "stderr",
     "output_type": "stream",
     "text": [
      "\n"
     ]
    }
   ],
   "source": [
    "print(len(trainY))\n",
    "ntimes = 6\n",
    "trainY = trainY.tolist()\n",
    "for i in tqdm(range(len(trainX))):\n",
    "    if (trainY[i][0] == 1):\n",
    "        trainX += [trainX[i]]*ntimes\n",
    "        trainY += [trainY[i]]*ntimes\n",
    "        \n",
    "trainY = np.array(trainY)\n",
    "\n",
    "print(len(trainY))"
   ]
  },
  {
   "cell_type": "code",
   "execution_count": 10,
   "metadata": {
    "executionInfo": {
     "elapsed": 33011,
     "status": "ok",
     "timestamp": 1624946336060,
     "user": {
      "displayName": "JONATHAN TILLAGUANGO",
      "photoUrl": "https://lh3.googleusercontent.com/a-/AOh14GiNlQ9A7pZgz9MLEGlpF1nyPFtpFg71ANAXZPZswg=s64",
      "userId": "07754999983166154050"
     },
     "user_tz": 300
    },
    "id": "oEoMlwzkfsTZ"
   },
   "outputs": [],
   "source": [
    "trainX = np.array(trainX).astype('float16')/255\n",
    "testX = np.array(testX).astype('float16')/255"
   ]
  },
  {
   "cell_type": "code",
   "execution_count": 11,
   "metadata": {
    "executionInfo": {
     "elapsed": 190,
     "status": "ok",
     "timestamp": 1624946409135,
     "user": {
      "displayName": "JONATHAN TILLAGUANGO",
      "photoUrl": "https://lh3.googleusercontent.com/a-/AOh14GiNlQ9A7pZgz9MLEGlpF1nyPFtpFg71ANAXZPZswg=s64",
      "userId": "07754999983166154050"
     },
     "user_tz": 300
    },
    "id": "mknDVvP1fsTa"
   },
   "outputs": [],
   "source": [
    "trainAug = ImageDataGenerator(rotation_range=20, horizontal_flip = True,fill_mode=\"nearest\")"
   ]
  },
  {
   "cell_type": "markdown",
   "metadata": {
    "id": "ASwTwj63fsTd",
    "tags": []
   },
   "source": [
    "# Load best model"
   ]
  },
  {
   "cell_type": "code",
   "execution_count": 12,
   "metadata": {
    "id": "IKU-FrnsfsTd"
   },
   "outputs": [],
   "source": [
    "model= load_model('model.h5')\n",
    "BS = 32"
   ]
  },
  {
   "cell_type": "markdown",
   "metadata": {},
   "source": [
    "# Result on training"
   ]
  },
  {
   "cell_type": "code",
   "execution_count": 13,
   "metadata": {
    "id": "6qqMXBz7fsTd",
    "tags": []
   },
   "outputs": [
    {
     "name": "stdout",
     "output_type": "stream",
     "text": [
      "              precision    recall  f1-score   support\n",
      "\n",
      "    Covid-19    0.99010   1.00000   0.99502      1400\n",
      "      Normal    1.00000   0.93000   0.96373       200\n",
      "\n",
      "    accuracy                        0.99125      1600\n",
      "   macro avg    0.99505   0.96500   0.97938      1600\n",
      "weighted avg    0.99134   0.99125   0.99111      1600\n",
      "\n"
     ]
    }
   ],
   "source": [
    "predIdxs = model.predict(trainX, batch_size=BS)\n",
    "predIdxs = np.argmax(predIdxs, axis=1)\n",
    "print(classification_report(trainY.argmax(axis=1), predIdxs, target_names=le.classes_, digits=5))"
   ]
  },
  {
   "cell_type": "markdown",
   "metadata": {
    "id": "Ne7YX5OCfsTe",
    "tags": []
   },
   "source": [
    "# Result on test"
   ]
  },
  {
   "cell_type": "code",
   "execution_count": 14,
   "metadata": {
    "colab": {
     "base_uri": "https://localhost:8080/"
    },
    "executionInfo": {
     "elapsed": 2929,
     "status": "ok",
     "timestamp": 1624632512768,
     "user": {
      "displayName": "JONATHAN TILLAGUANGO",
      "photoUrl": "https://lh3.googleusercontent.com/a-/AOh14GiNlQ9A7pZgz9MLEGlpF1nyPFtpFg71ANAXZPZswg=s64",
      "userId": "07754999983166154050"
     },
     "user_tz": 300
    },
    "id": "b8hVUEQgfsTf",
    "outputId": "ef7df9c0-d6e8-407b-bf44-0fb826bcc44c"
   },
   "outputs": [
    {
     "name": "stdout",
     "output_type": "stream",
     "text": [
      "              precision    recall  f1-score   support\n",
      "\n",
      "    Covid-19    0.92593   1.00000   0.96154        50\n",
      "      Normal    1.00000   0.92000   0.95833        50\n",
      "\n",
      "    accuracy                        0.96000       100\n",
      "   macro avg    0.96296   0.96000   0.95994       100\n",
      "weighted avg    0.96296   0.96000   0.95994       100\n",
      "\n"
     ]
    }
   ],
   "source": [
    "predIdxs = model.predict(testX, batch_size=BS)\n",
    "predIdxs = np.argmax(predIdxs, axis=1)\n",
    "print(classification_report(testY.argmax(axis=1), predIdxs, target_names=le.classes_, digits = 5))"
   ]
  },
  {
   "cell_type": "code",
   "execution_count": null,
   "metadata": {},
   "outputs": [],
   "source": []
  },
  {
   "cell_type": "code",
   "execution_count": 15,
   "metadata": {
    "colab": {
     "base_uri": "https://localhost:8080/",
     "height": 312
    },
    "executionInfo": {
     "elapsed": 781,
     "status": "ok",
     "timestamp": 1624632775752,
     "user": {
      "displayName": "JONATHAN TILLAGUANGO",
      "photoUrl": "https://lh3.googleusercontent.com/a-/AOh14GiNlQ9A7pZgz9MLEGlpF1nyPFtpFg71ANAXZPZswg=s64",
      "userId": "07754999983166154050"
     },
     "user_tz": 300
    },
    "id": "q_JDkU6hfsTf",
    "outputId": "2109a471-7eba-42ce-b9f7-27be5a4fac41"
   },
   "outputs": [
    {
     "data": {
      "text/plain": [
       "<function matplotlib.pyplot.show(close=None, block=None)>"
      ]
     },
     "execution_count": 15,
     "metadata": {},
     "output_type": "execute_result"
    },
    {
     "data": {
      "image/png": "[encoded data removed]",
      "text/plain": [
       "<Figure size 432x288 with 2 Axes>"
      ]
     },
     "metadata": {
      "needs_background": "light"
     },
     "output_type": "display_data"
    }
   ],
   "source": [
    "import seaborn as sns\n",
    "import sklearn\n",
    "plt.figure()\n",
    "\n",
    "ax = plt.subplot()\n",
    "\n",
    "ax.set_title('Confusion Matrix')\n",
    "pred = model.predict(testX)\n",
    "pred=np.argmax(pred,axis=1)\n",
    "# pred = model.predict_classes(X_test)\n",
    "Y_TEST = np.argmax(testY, axis =1)\n",
    "cm = sklearn.metrics.confusion_matrix(Y_TEST,pred)\n",
    "classes=['normal','covid19']\n",
    "sns.heatmap(cm, annot=True,xticklabels=classes, yticklabels=classes,cmap='Blues')\n",
    "\n",
    "plt.xlabel('Predicted')\n",
    "plt.ylabel('Actual')\n",
    "plt.show"
   ]
  },
  {
   "cell_type": "code",
   "execution_count": null,
   "metadata": {},
   "outputs": [],
   "source": []
  }
 ],
 "metadata": {
  "colab": {
   "collapsed_sections": [],
   "name": "Covid 19_VGG_GPU.ipynb",
   "provenance": [],
   "toc_visible": true
  },
  "kernelspec": {
   "display_name": "Python 3 (ipykernel)",
   "language": "python",
   "name": "python3"
  },
  "language_info": {
   "codemirror_mode": {
    "name": "ipython",
    "version": 3
   },
   "file_extension": ".py",
   "mimetype": "text/x-python",
   "name": "python",
   "nbconvert_exporter": "python",
   "pygments_lexer": "ipython3",
   "version": "3.8.8"
  }
 },
 "nbformat": 4,
 "nbformat_minor": 4
}
